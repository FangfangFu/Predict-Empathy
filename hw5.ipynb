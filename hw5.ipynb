{
 "cells": [
  {
   "cell_type": "markdown",
   "metadata": {},
   "source": [
    "# Homework 5: Option 1 - predicting a person's “Empathy”\n",
    "UIC CS 412, Fall 2018\n",
    "\n",
    "Author: Fangfang Fu\n",
    "Netid: ffu3\n",
    "Date: 12/1/2018"
   ]
  },
  {
   "cell_type": "markdown",
   "metadata": {},
   "source": [
    "# Data and Task\n",
    "Based on choosing option 1, the data is Young People Survey dataset (https://www.kaggle.com/miroslavsabo/young-people-survey/). The task is to build a model to predict a person's “Empathy” as either “very empathetic” (answers 4 and 5) or “not very empathetic” (answers 1, 2, and 3)."
   ]
  },
  {
   "cell_type": "markdown",
   "metadata": {},
   "source": [
    "To process the data, At first, I used Pandas to read csv files and its DataFrame to process data into binary features with the following steps:\n",
    "1. get empathy column as Y, fill the blank with its located column's mode, and replace 1,2,3 to -1 and 4,5 to 1\n",
    "2. get any other columns as X features and fill the blank with its located column's mode\n",
    "3. convert strings into small numbers 1,2,3,4,5 level and then convert >= 4 to 1 and < 4 to 0, which depends on how they may relate to empathy based on my general knowledge.\n",
    "4. convert big numbers into 0 and 1 and those are separated by either median or mode\n",
    "5. split the data into 60% train, 20% develop, 20% test\n"
   ]
  },
  {
   "cell_type": "code",
   "execution_count": 1,
   "metadata": {},
   "outputs": [
    {
     "name": "stdout",
     "output_type": "stream",
     "text": [
      "[-1. -1.  1. ...  1.  1.  1.]\n",
      "[[1 0 0 ... 0 0 0]\n",
      " [1 1 0 ... 0 1 0]\n",
      " [1 1 0 ... 0 1 0]\n",
      " ...\n",
      " [1 0 0 ... 1 1 0]\n",
      " [1 0 0 ... 0 1 0]\n",
      " [1 1 1 ... 0 0 1]]\n"
     ]
    }
   ],
   "source": [
    "import pandas as pd\n",
    "import numpy as np\n",
    "from statistics import mode\n",
    "from sklearn.model_selection import train_test_split\n",
    "import sys\n",
    "\n",
    "# get Yall\n",
    "df = pd.read_csv(\"responses.csv\", sep = \",\", usecols=[94])\n",
    "# fill blank with mode of its column\n",
    "headers = list(df)\n",
    "df[headers]=df[headers].fillna(df.mode().iloc[0])\n",
    "# process the data to -1 and 1\n",
    "df.Empathy[df.Empathy < 4] = -1\n",
    "df.Empathy[df.Empathy >= 4] = 1\n",
    "Yall = df['Empathy'].values\n",
    "print (Yall)\n",
    "\n",
    "# get Xall\n",
    "df = pd.read_csv(\"responses.csv\", sep = \",\", usecols=list(range(0,94)) + list(range(95,150)))\n",
    "# fill blank with mode of its column\n",
    "headers = list(df)\n",
    "df[headers]=df[headers].fillna(df.mode().iloc[0])\n",
    "# process the data to 0 and 1\n",
    "mapping = {'never smoked':1, 'tried smoking':2, 'former smoker':3, 'current smoker':4,   # Smoking\n",
    "        'never':1, 'social drinker':3, 'drink a lot':4,   # Alcohol\n",
    "        'i am always on time':1, 'i am often early':2, 'i am often running late':4,   # Punctuality\n",
    "        'never':1, 'only to avoid hurting someone':2, 'sometimes':4, 'everytime it suits me':5,   # Lying\n",
    "        'less than an hour a day':1, 'few hours a day':4, 'most of the day':5,   # Internet usage\n",
    "        'female':1, 'male':4,   # Gender\n",
    "        'right handed':1, 'left handed':4,   # Left - right handed\n",
    "        'primary school':1, 'secondary school':2, 'college/bachelor degree':4, 'masters degree':5, 'doctorate degree':6, # Education\n",
    "        'no':1, 'yes':4,   # Only child\n",
    "        'village':1, 'city':4,   # Village - town\n",
    "        'block of flats':1, 'house/bungalow':4}    # House - block of flats\n",
    "df2 = df.applymap(lambda s: mapping.get(s) if s in mapping else s)\n",
    "df2['Age'] = np.where(df2['Age'] < 23, 1, 4)     # Age min =15, max = 30\n",
    "df2['Height'] = np.where(df2['Height'] <= 170, 1, 4)     # Height min = 62, max = 203, mode = 170\n",
    "df2['Weight'] = np.where(df2['Weight'] <= 60, 1, 4)     # Weight min = 41, max = 165, mode = 60\n",
    "df2['Number of siblings'] = np.where(df2['Number of siblings'] == 0, 1, 4)      # Number of siblings min = 0, max = 10, mode = 1\n",
    "Xall = np.where(df2 < 4, 0, 1) \n",
    "print (Xall)\n",
    "\n",
    "# Split the data - Train: 60%, Develop: 20%, Test: 20%\n",
    "Xtr,Xte,Ytr,Yte = train_test_split(Xall, Yall, test_size=0.2, random_state=0)\n",
    "Xtr,Xde,Ytr,Yde = train_test_split(Xtr, Ytr, test_size=0.25, random_state=0)"
   ]
  },
  {
   "cell_type": "markdown",
   "metadata": {},
   "source": [
    "# Dummy Classifier\n",
    "I used the sklearn-DummyClassifier as simple baselines to compare with other (real) classifiers. Since there is no parameter, so no need to tune it. \n"
   ]
  },
  {
   "cell_type": "markdown",
   "metadata": {},
   "source": [
    "The first baseline is uniform which will generate predictions uniformly at random. Since it is random, the prediction accuracy should be around 50%."
   ]
  },
  {
   "cell_type": "code",
   "execution_count": 2,
   "metadata": {},
   "outputs": [
    {
     "name": "stdout",
     "output_type": "stream",
     "text": [
      "random uniform:\n",
      "Train Accuracy: 0.5297029702970297\n",
      "Develop Accuracy: 0.5247524752475248\n",
      "Test Accuracy: 0.5099009900990099\n"
     ]
    }
   ],
   "source": [
    "from sklearn.dummy import DummyClassifier\n",
    "import numpy as np\n",
    "import data\n",
    "\n",
    "# DummyClassifier: uniform\n",
    "dummy = DummyClassifier(strategy='uniform')\n",
    "dummy.fit(data.SurveyData.Xtr, data.SurveyData.Ytr)\n",
    "# there is no parameter to tune for this simple classifier\n",
    "print (\"random uniform:\")\n",
    "print (\"Train Accuracy: {0}\".format(np.mean(dummy.predict(data.SurveyData.Xtr) == data.SurveyData.Ytr)))\n",
    "print (\"Develop Accuracy: {0}\".format(np.mean(dummy.predict(data.SurveyData.Xde) == data.SurveyData.Yde)))\n",
    "print (\"Test Accuracy: {0}\".format(np.mean(dummy.predict(data.SurveyData.Xte) == data.SurveyData.Yte)))"
   ]
  },
  {
   "cell_type": "markdown",
   "metadata": {},
   "source": [
    "The second baseline is most frequent. The prediction accuracy of most_frequent is not that bad considering as a dummy classifier."
   ]
  },
  {
   "cell_type": "code",
   "execution_count": 3,
   "metadata": {},
   "outputs": [
    {
     "name": "stdout",
     "output_type": "stream",
     "text": [
      "most frequent:\n",
      "Train Accuracy: 0.6501650165016502\n",
      "Develop Accuracy: 0.693069306930693\n",
      "Test Accuracy: 0.6732673267326733\n"
     ]
    }
   ],
   "source": [
    "from sklearn.dummy import DummyClassifier\n",
    "import numpy as np\n",
    "import data\n",
    "\n",
    "# DummyClassifier: most_frequent\n",
    "dummy = DummyClassifier(strategy='most_frequent')\n",
    "dummy.fit(data.SurveyData.Xtr, data.SurveyData.Ytr)\n",
    "# there is no parameter to tune for this simple classifier\n",
    "print (\"most frequent:\")\n",
    "print (\"Train Accuracy: {0}\".format(np.mean(dummy.predict(data.SurveyData.Xtr) == data.SurveyData.Ytr)))\n",
    "# Train Accuracy: 0.6501650165016502\n",
    "print (\"Develop Accuracy: {0}\".format(np.mean(dummy.predict(data.SurveyData.Xde) == data.SurveyData.Yde)))\n",
    "# Develop Accuracy: 0.693069306930693\n",
    "print (\"Test Accuracy: {0}\".format(np.mean(dummy.predict(data.SurveyData.Xte) == data.SurveyData.Yte)))\n",
    "# Test Accuracy: 0.6732673267326733"
   ]
  },
  {
   "cell_type": "markdown",
   "metadata": {},
   "source": [
    "# Decision Tree Classifier\n",
    "The first real model I tried is the sklearn-DecisionTreeClassifier model. The test prediction accuracy is better than random uniform classifier and is similar as most frequent classifier. The only problem is that the best max_depth is not stable even with same data to train and tune it. Sometimes the best max_depth could be 7 which is relative high and sometimes it is 2. \n",
    "\n",
    "The good thing about decision tree is that you can choose the best feature in order to make decision tree. However, for this data, there are up to 149 features, there could be so many features that are equivalent important. Plus, decision tree classifier need binary features, so the preprocess to convert all the features to binary data will reduce the precision of the data."
   ]
  },
  {
   "cell_type": "code",
   "execution_count": 3,
   "metadata": {
    "scrolled": false
   },
   "outputs": [
    {
     "data": {
      "image/png": "[encoded data removed]",
      "text/plain": [
       "<Figure size 432x288 with 1 Axes>"
      ]
     },
     "metadata": {},
     "output_type": "display_data"
    },
    {
     "name": "stdout",
     "output_type": "stream",
     "text": [
      "dt:\n",
      "Best Max Depth: 2\n",
      "Judgment calls?\n",
      "-N-> Parents' advice?\n",
      "|    -N-> class 0\t(72.0 for class 0, 40.0 for class 1)\n",
      "|    -Y-> class 1\t(26.0 for class 0, 43.0 for class 1)\n",
      "-Y-> Psychology?\n",
      "|    -N-> class 1\t(82.0 for class 0, 160.0 for class 1)\n",
      "|    -Y-> class 1\t(32.0 for class 0, 151.0 for class 1)\n",
      "Train Accuracy: 0.7029702970297029\n",
      "Develop Accuracy: 0.698019801980198\n",
      "Test Accuracy: 0.6831683168316832\n"
     ]
    }
   ],
   "source": [
    "from sklearn.tree import DecisionTreeClassifier\n",
    "from numpy import *\n",
    "from pylab import *\n",
    "import data\n",
    "\n",
    "size = 21\n",
    "depth = range(1,size)\n",
    "trainErr  = zeros(size-1)\n",
    "devErr = zeros(size-1)\n",
    "testErr   = zeros(size-1)\n",
    "maxDevCurr = 0\n",
    "bestDepth = 0\n",
    "# train and tune the model with train and dev data\n",
    "for i in range(1,size):\n",
    "    dt = DecisionTreeClassifier(max_depth=i)\n",
    "    dt.fit(data.SurveyData.Xtr, data.SurveyData.Ytr)\n",
    "    trainErr[i-1] = np.mean(dt.predict(data.SurveyData.Xtr) == data.SurveyData.Ytr)\n",
    "    devErr[i-1] = np.mean(dt.predict(data.SurveyData.Xde) == data.SurveyData.Yde)\n",
    "    testErr[i-1] = np.mean(dt.predict(data.SurveyData.Xte) == data.SurveyData.Yte)\n",
    "    if devErr[i-1] > maxDevCurr:\n",
    "        maxDevCurr = devErr[i-1]\n",
    "        bestDepth = i\n",
    "\n",
    "# draw hyperparameter curve\n",
    "plot(depth, trainErr, 'b-',\n",
    "     depth, devErr, 'r-',\n",
    "     depth, testErr, 'g-')\n",
    "legend( ('Train', 'Develop','Test') )\n",
    "xlabel('Depth')\n",
    "ylabel('Accuracy')\n",
    "title('Decision Tree on Young People Survey data')\n",
    "show()  \n",
    "\n",
    "# train the model with the best max_depth tuned by dev data\n",
    "dt = DecisionTreeClassifier(max_depth=bestDepth)\n",
    "dt.fit(data.SurveyData.Xtr, data.SurveyData.Ytr)\n",
    "\n",
    "# print all prediction accuracy results and the decision tree\n",
    "print (\"dt:\")\n",
    "print(\"Best Max Depth: {0}\".format(dt.get_params()['max_depth']))\n",
    "data.showTree(dt, data.SurveyData.headers)\n",
    "print (\"Train Accuracy: {0}\".format(np.mean(dt.predict(data.SurveyData.Xtr) == data.SurveyData.Ytr)))\n",
    "# Train Accuracy: 0.7029702970297029\n",
    "print (\"Develop Accuracy: {0}\".format(np.mean(dt.predict(data.SurveyData.Xde) == data.SurveyData.Yde)))\n",
    "# Develop Accuracy: 0.698019801980198\n",
    "print (\"Test Accuracy: {0}\".format(np.mean(dt.predict(data.SurveyData.Xte) == data.SurveyData.Yte)))\n",
    "# Test Accuracy: 0.6831683168316832"
   ]
  },
  {
   "cell_type": "markdown",
   "metadata": {},
   "source": [
    "# K Nearest Neighbors Classifier\n",
    "Next, I tried the sklearn-KNeighborsClassifier model. The prediction accuracy is better than random uniform classifier and slightly better than most frequent classifier, decision tree classifier. And the performance is very stable comparing to decision tree. \n",
    "\n",
    "KNN will treat all features equivalent important which is relatively good for data that has a big amount of features. Since KNN model use distances between data samples, it is very sensitive to feature values. Plus, the data has different number of values for each feature. So I used same preprocessed data as decision tree and thus it also reduces the precision of the data."
   ]
  },
  {
   "cell_type": "code",
   "execution_count": 5,
   "metadata": {},
   "outputs": [
    {
     "data": {
      "image/png": "[encoded data removed]",
      "text/plain": [
       "<Figure size 432x288 with 1 Axes>"
      ]
     },
     "metadata": {},
     "output_type": "display_data"
    },
    {
     "name": "stdout",
     "output_type": "stream",
     "text": [
      "KNN:\n",
      "Best K: 18\n",
      "Train Accuracy: 0.7079207920792079\n",
      "Develop Accuracy: 0.7128712871287128\n",
      "Test Accuracy: 0.698019801980198\n"
     ]
    }
   ],
   "source": [
    "from sklearn.neighbors import KNeighborsClassifier\n",
    "from numpy import *\n",
    "from pylab import *\n",
    "import data\n",
    "\n",
    "size = 21\n",
    "depth = range(1,size)\n",
    "trainErr  = zeros(size-1)\n",
    "devErr = zeros(size-1)\n",
    "testErr   = zeros(size-1)\n",
    "maxDevCurr = 0\n",
    "bestK = 1\n",
    "# train and tune the model with train and dev data\n",
    "for i in range(1,size):\n",
    "    neigh = KNeighborsClassifier(n_neighbors=i)\n",
    "    neigh.fit(data.SurveyData.Xtr, data.SurveyData.Ytr)\n",
    "    trainErr[i-1] = np.mean(neigh.predict(data.SurveyData.Xtr) == data.SurveyData.Ytr)\n",
    "    devErr[i-1] = np.mean(neigh.predict(data.SurveyData.Xde) == data.SurveyData.Yde)\n",
    "    testErr[i-1] = np.mean(neigh.predict(data.SurveyData.Xte) == data.SurveyData.Yte)\n",
    "    if devErr[i-1] > maxDevCurr:\n",
    "        maxDevCurr = devErr[i-1]\n",
    "        bestK = i\n",
    "\n",
    "# draw hyperparameter curve\n",
    "plot(depth, trainErr, 'b-',\n",
    "     depth, devErr, 'r-',\n",
    "     depth, testErr, 'g-')\n",
    "legend( ('Train', 'Develop','Test') )\n",
    "xlabel('K')\n",
    "ylabel('Accuracy')\n",
    "title('K Neighbors on Young People Survey data')\n",
    "show() \n",
    "\n",
    "# train the model with the best K tuned by dev data\n",
    "neigh = KNeighborsClassifier(n_neighbors=bestK)\n",
    "neigh.fit(data.SurveyData.Xtr, data.SurveyData.Ytr)\n",
    "\n",
    "# print all prediction accuracy results\n",
    "print(\"KNN:\")\n",
    "print(\"Best K: {0}\".format(neigh.get_params()['n_neighbors']))\n",
    "print (\"Train Accuracy: {0}\".format(np.mean(neigh.predict(data.SurveyData.Xtr) == data.SurveyData.Ytr)))\n",
    "# Train Accuracy: 0.7079207920792079\n",
    "print (\"Develop Accuracy: {0}\".format(np.mean(neigh.predict(data.SurveyData.Xde) == data.SurveyData.Yde)))\n",
    "# Develop Accuracy: 0.7128712871287128\n",
    "print (\"Test Accuracy: {0}\".format(np.mean(neigh.predict(data.SurveyData.Xte) == data.SurveyData.Yte)))\n",
    "# Test Accuracy: 0.698019801980198"
   ]
  },
  {
   "cell_type": "markdown",
   "metadata": {},
   "source": [
    "# Target Model: Perceptron\n",
    "Finally, I tried the sklearn-Perceptron model. Since perceptron uses weight for each feature, it is not very sensitive to feature values and it also considers all features comprehensively. Thus, I only preprocess the data by converting the string to a range of small values(0-5) like most features.\n",
    "\n",
    "After training and tuning the model with train and develop data, I found the best max_iter. With the best max_iter, the test prediction accuracy is better than any other classifier listed above. Thus, I choose this model with the best max_iter as my final model to predict if a person empathy or not."
   ]
  },
  {
   "cell_type": "markdown",
   "metadata": {},
   "source": [
    "The following code is how I preprocess the data for perceptron model."
   ]
  },
  {
   "cell_type": "code",
   "execution_count": 6,
   "metadata": {},
   "outputs": [
    {
     "name": "stdout",
     "output_type": "stream",
     "text": [
      "[-1. -1.  1. ...  1.  1.  1.]\n",
      "[[5. 3. 2. ... 0. 0. 0.]\n",
      " [4. 4. 2. ... 0. 1. 0.]\n",
      " [5. 5. 2. ... 0. 1. 0.]\n",
      " ...\n",
      " [4. 3. 1. ... 1. 1. 0.]\n",
      " [5. 3. 3. ... 0. 1. 0.]\n",
      " [5. 5. 4. ... 0. 0. 1.]]\n"
     ]
    }
   ],
   "source": [
    "import pandas as pd\n",
    "import numpy as np\n",
    "from statistics import mode\n",
    "from sklearn.model_selection import train_test_split\n",
    "import sys\n",
    "\n",
    "# get Yall\n",
    "df = pd.read_csv(\"responses.csv\", sep = \",\", usecols=[94])\n",
    "# fill blank with mode of its column\n",
    "headers = list(df)\n",
    "df[headers]=df[headers].fillna(df.mode().iloc[0])\n",
    "# process the data to -1 and 1\n",
    "df.Empathy[df.Empathy < 4] = -1\n",
    "df.Empathy[df.Empathy >= 4] = 1\n",
    "Yall = df['Empathy'].values\n",
    "print (Yall)\n",
    "\n",
    "# get Xall\n",
    "df = pd.read_csv(\"responses.csv\", sep = \",\", usecols=list(range(0,94)) + list(range(95,150)))\n",
    "# fill blank with mode of its column\n",
    "headers = list(df)\n",
    "df[headers]=df[headers].fillna(df.mode().iloc[0])\n",
    "# process the data to 0 and 1\n",
    "mapping = {'never smoked':1, 'tried smoking':2, 'former smoker':3, 'current smoker':4,   # Smoking\n",
    "        'never':1, 'social drinker':3, 'drink a lot':5,   # Alcohol\n",
    "        'i am always on time':2, 'i am often early':1, 'i am often running late':3,   # Punctuality\n",
    "        'never':4, 'only to avoid hurting someone':2, 'sometimes':2, 'everytime it suits me':5,   # Lying\n",
    "        'no time at all':1,'less than an hour a day':2, 'few hours a day':3, 'most of the day':4,   # Internet usage\n",
    "        'female':0, 'male':1,   # Gender\n",
    "        'right handed':0, 'left handed':1,   # Left - right handed\n",
    "        'currently a primary school pupil':0, 'primary school':1, 'secondary school':2, 'college/bachelor degree':3, 'masters degree':4, 'doctorate degree':5, # Education\n",
    "        'no':0, 'yes':1,   # Only child\n",
    "        'village':0, 'city':1,   # Village - town\n",
    "        'block of flats':0, 'house/bungalow':1}    # House - block of flats\n",
    "df2 = df.applymap(lambda s: mapping.get(s) if s in mapping else s)\n",
    "Xall = df2.values     \n",
    "print (Xall)\n",
    "\n",
    "# Split the data - Train: 60%, Develop: 20%, Test: 20%\n",
    "Xtr,Xte,Ytr,Yte = train_test_split(Xall, Yall, test_size=0.2, random_state=0)\n",
    "Xtr,Xde,Ytr,Yde = train_test_split(Xtr, Ytr, test_size=0.25, random_state=0)"
   ]
  },
  {
   "cell_type": "markdown",
   "metadata": {},
   "source": [
    "The following code is how I train, tune, and test the preceptron model."
   ]
  },
  {
   "cell_type": "code",
   "execution_count": 5,
   "metadata": {
    "scrolled": false
   },
   "outputs": [
    {
     "data": {
      "image/png": "[encoded data removed]",
      "text/plain": [
       "<Figure size 432x288 with 1 Axes>"
      ]
     },
     "metadata": {},
     "output_type": "display_data"
    },
    {
     "name": "stdout",
     "output_type": "stream",
     "text": [
      "Perceptron:\n",
      "Best Max Iter: 15\n",
      "Train Accuracy: 0.7343234323432343\n",
      "Develop Accuracy: 0.7326732673267327\n",
      "Test Accuracy: 0.7623762376237624\n"
     ]
    }
   ],
   "source": [
    "from sklearn.linear_model import Perceptron\n",
    "from numpy import *\n",
    "from pylab import *\n",
    "import data\n",
    "\n",
    "size = 21\n",
    "depth = range(1,size)\n",
    "trainErr  = zeros(size-1)\n",
    "devErr = zeros(size-1)\n",
    "testErr   = zeros(size-1)\n",
    "maxDevCurr = 0\n",
    "bestMaxIter = 1\n",
    "# train and tune the model with train and dev data\n",
    "for i in range(1,size):\n",
    "    perceptron = Perceptron(max_iter=i)\n",
    "    perceptron.fit(data.PerceptronSurveyData.Xtr, data.SurveyData.Ytr)\n",
    "    trainErr[i-1] = np.mean(perceptron.predict(data.PerceptronSurveyData.Xtr) == data.PerceptronSurveyData.Ytr)\n",
    "    devErr[i-1] = np.mean(perceptron.predict(data.PerceptronSurveyData.Xde) == data.PerceptronSurveyData.Yde)\n",
    "    testErr[i-1] = np.mean(perceptron.predict(data.PerceptronSurveyData.Xte) == data.PerceptronSurveyData.Yte)\n",
    "    if devErr[i-1] > maxDevCurr:\n",
    "        maxDevCurr = devErr[i-1]\n",
    "        bestMaxIter = i\n",
    "\n",
    "# draw hyperparameter curve\n",
    "plot(depth, trainErr, 'b-',\n",
    "     depth, devErr, 'r-',\n",
    "     depth, testErr, 'g-')\n",
    "legend( ('Train', 'Develop','Test') )\n",
    "xlabel('Max Iter')\n",
    "ylabel('Accuracy')\n",
    "title('perceptron on Young People Survey data')\n",
    "show() \n",
    "\n",
    "# train the model with the best max_iter tuned by dev data\n",
    "perceptron = Perceptron(max_iter=bestMaxIter)\n",
    "perceptron.fit(data.PerceptronSurveyData.Xtr, data.PerceptronSurveyData.Ytr)\n",
    "\n",
    "# print all prediction accuracy results\n",
    "print(\"Perceptron:\")\n",
    "print(\"Best Max Iter: {0}\".format(perceptron.get_params()['max_iter']))\n",
    "print (\"Train Accuracy: {0}\".format(np.mean(perceptron.predict(data.PerceptronSurveyData.Xtr) == data.PerceptronSurveyData.Ytr)))\n",
    "# Train Accuracy: 0.7343234323432343\n",
    "print (\"Develop Accuracy: {0}\".format(np.mean(perceptron.predict(data.PerceptronSurveyData.Xde) == data.PerceptronSurveyData.Yde)))\n",
    "# Develop Accuracy: 0.7326732673267327\n",
    "print (\"Test Accuracy: {0}\".format(np.mean(perceptron.predict(data.PerceptronSurveyData.Xte) == data.PerceptronSurveyData.Yte)))\n",
    "# Test Accuracy: 0.7623762376237624"
   ]
  },
  {
   "cell_type": "markdown",
   "metadata": {},
   "source": [
    "Show some examples from the development data that the perceptron model got correct and some it got wrong: if you were to try to fix the ones it got wrong, what would you do?\n",
    "\n",
    "Correct prediction examples:\n",
    "\n",
    "(male, secondary school, have sibling, city, house/bungalow) prediction: very empathy, expectation: very empathy\n",
    "\n",
    "(female, secondary school, have sibling, city, block of flats) prediction: very empathy, expectation: very empathy\n",
    "\n",
    "(female, college degree, only child, city, block of flats) prediction: not very empathy, expectation: not very empathy\n",
    "\n",
    "Wrong prediction examples:\n",
    "\n",
    "(male, primary school, have sibling, city, block of flats) prediction: very empathy, expectation: not very empathy\n",
    "\n",
    "(male, secondary school, only child, city, block of flats) prediction: very empathy, expectation: not very empathy\n",
    "\n",
    "(female, secondary school, only child, city, block of flats) prediction: not very empathy, expectation: very empathy\n",
    "\n",
    "Analysis: From the above prediction examples, it is noticed that people who have those features (female, have siblings) tend to be very empathy. Based on perceptron algorithm, as long as the prediction is correct, it wouldn't bother to update weights. So the misclassified data is probably because improper weights to some features. To fix those misclassified data, one way is to increase the max_iter to give the model more chance to update to proper weights. Or maybe the data itself is not linearly separable. We can try the Kernelized perceptron (combine the perceptron with kernel trick to build kernelizing support vector machine) that can separate non-linearly separable data. Or if we are allowed change the task, it is better to define a person into more levels of empathy instead of absolute binary labels. Or use a combination of multiple perceptrons (neural network)."
   ]
  },
  {
   "cell_type": "code",
   "execution_count": 23,
   "metadata": {
    "scrolled": false
   },
   "outputs": [
    {
     "name": "stdout",
     "output_type": "stream",
     "text": [
      "[False False  True  True  True  True  True  True  True  True False  True\n",
      "  True False  True  True  True False False False  True  True  True  True\n",
      "  True  True  True  True  True False  True  True  True  True  True  True\n",
      "  True False  True  True False  True  True  True False False  True  True\n",
      "  True  True  True  True  True  True False  True  True False  True  True\n",
      " False  True  True False  True  True False  True  True False False False\n",
      "  True  True  True  True  True  True  True False False  True  True  True\n",
      " False  True  True  True  True False  True  True False  True  True  True\n",
      "  True False  True  True  True  True  True False False  True  True  True\n",
      "  True  True  True  True  True  True  True  True  True  True  True  True\n",
      "  True  True False  True  True  True  True  True False  True  True False\n",
      " False False  True  True  True  True  True  True  True False  True  True\n",
      "  True False  True  True False False False  True  True  True  True  True\n",
      " False False  True  True  True  True  True  True False  True  True  True\n",
      " False  True  True False False  True  True  True  True False  True False\n",
      "  True  True False  True False  True  True False  True False  True  True\n",
      " False False  True  True  True  True  True False  True False]\n",
      "\n",
      "correct examples:\n",
      "X = [  5.   3.   1.   3.   5.   3.   1.   1.   5.   3.   4.   3.   3.   4.\n",
      "   5.   5.   2.   1.   1.   5.   1.   3.   3.   3.   1.   5.   3.   4.\n",
      "   5.   1.   5.   4.   5.   5.   3.   1.   4.   4.   4.   2.   1.   5.\n",
      "   5.   5.   3.   3.   4.   3.   5.   5.   5.   5.   3.   5.   5.   1.\n",
      "   1.   1.   3.   5.   5.   2.   2.   1.   1.   1.   1.   1.   1.   1.\n",
      "   2.   4.   3.   1.   3.   3.   5.   3.   4.   4.   4.   2.   5.   5.\n",
      "   3.   5.   4.   1.   1.   3.   5.   5.   5.   1.   2.   5.   4.   5.\n",
      "   3.   3.   4.   3.   5.   3.   4.   5.   2.   2.   3.   3.   2.   3.\n",
      "   4.   1.   4.   5.   2.   3.   5.   3.   5.   2.   4.   5.   3.   3.\n",
      "   5.   4.   5.   5.   3.   3.   4.   3.   2.   4.   3.   3.   4.  22.\n",
      " 189.  89.   2.   1.   0.   2.   0.   1.   1.]\n",
      "Y = 1.0\n",
      "\n",
      "X = [  5.   3.   3.   1.   2.   3.   3.   4.   5.   2.   3.   1.   3.   3.\n",
      "   4.   4.   4.   2.   2.   5.   5.   5.   5.   5.   3.   2.   3.   4.\n",
      "   2.   1.   4.   1.   1.   1.   5.   1.   5.   3.   3.   2.   2.   1.\n",
      "   4.   4.   1.   1.   1.   2.   1.   4.   1.   1.   1.   3.   4.   1.\n",
      "   3.   4.   2.   4.   5.   2.   4.   4.   3.   3.   3.   5.   5.   5.\n",
      "   5.   5.   3.   1.   5.   3.   2.   3.   3.   1.   4.   1.   5.   3.\n",
      "   4.   5.   3.   1.   5.   3.   1.   3.   5.   3.   1.   3.   4.   4.\n",
      "   3.   5.   5.   3.   1.   3.   2.   3.   2.   2.   1.   2.   4.   3.\n",
      "   2.   3.   1.   3.   4.   4.   4.   4.   2.   5.   4.   4.   1.   3.\n",
      "   2.   5.   3.   4.   2.   3.   3.   4.   3.   2.   4.   4.   2.  21.\n",
      " 177.  73.   1.   0.   0.   2.   0.   1.   0.]\n",
      "Y = 1.0\n",
      "\n",
      "X = [  5.   5.   5.   4.   2.   5.   5.   5.   5.   1.   1.   5.   5.   5.\n",
      "   1.   3.   5.   1.   5.   5.   5.   5.   5.   3.   5.   1.   3.   5.\n",
      "   5.   1.   5.   5.   1.   5.   1.   1.   5.   5.   4.   2.   2.   5.\n",
      "   5.   5.   2.   2.   5.   2.   2.   5.   1.   5.   1.   5.   1.   1.\n",
      "   4.   3.   3.   5.   5.   5.   1.   1.   1.   1.   1.   3.   1.   1.\n",
      "   1.   1.   3.   4.   3.   1.   5.   3.   2.   4.   5.   1.   3.   4.\n",
      "   5.   3.   4.   4.   3.   1.   3.   5.   3.   1.   1.   4.   5.   5.\n",
      "   5.   3.   3.   3.   3.   3.   4.   3.   1.   5.   1.   4.   3.   5.\n",
      "   1.   3.   1.   1.   5.   1.   5.   3.   5.   3.   4.   4.   3.   3.\n",
      "   1.   3.   3.   4.   2.   4.   3.   3.   3.   5.   5.   5.   3.  23.\n",
      " 173.  65.   0.   0.   0.   3.   1.   1.   0.]\n",
      "Y = -1.0\n",
      "\n",
      "\n",
      "wrong examples:\n",
      "X = [  5.   5.   4.   3.   2.   3.   3.   4.   4.   2.   2.   4.   4.   4.\n",
      "   3.   2.   2.   4.   2.   5.   5.   4.   5.   3.   4.   5.   3.   3.\n",
      "   4.   2.   3.   5.   2.   2.   3.   2.   3.   5.   4.   3.   3.   2.\n",
      "   2.   2.   2.   2.   5.   3.   4.   4.   4.   4.   2.   3.   5.   2.\n",
      "   2.   3.   5.   5.   5.   4.   3.   1.   1.   1.   3.   1.   2.   1.\n",
      "   1.   2.   2.   2.   3.   3.   4.   3.   4.   3.   4.   2.   4.   4.\n",
      "   4.   5.   4.   3.   2.   3.   3.   4.   3.   4.   4.   4.   5.   5.\n",
      "   4.   4.   4.   4.   5.   4.   3.   3.   2.   2.   4.   2.   5.   2.\n",
      "   5.   3.   2.   1.   4.   2.   5.   2.   5.   2.   3.   1.   5.   4.\n",
      "   3.   2.   5.   2.   3.   3.   3.   3.   2.   5.   2.   4.   2.  17.\n",
      " 185.  73.   1.   1.   0.   1.   0.   1.   0.]\n",
      "Y = 1.0\n",
      "\n",
      "X = [  5.   2.   2.   2.   4.   4.   2.   3.   5.   5.   3.   2.   2.   2.\n",
      "   3.   1.   3.   1.   4.   5.   1.   4.   4.   2.   5.   5.   3.   3.\n",
      "   4.   3.   5.   3.   3.   4.   2.   2.   4.   5.   4.   2.   2.   1.\n",
      "   2.   3.   3.   2.   5.   2.   3.   3.   1.   1.   1.   2.   2.   1.\n",
      "   1.   2.   4.   1.   4.   2.   1.   3.   1.   3.   2.   1.   4.   4.\n",
      "   1.   3.   4.   2.   5.   2.   4.   1.   1.   1.   4.   3.   2.   3.\n",
      "   2.   4.   5.   3.   4.   2.   1.   4.   4.   2.   3.   3.   3.   4.\n",
      "   4.   4.   3.   4.   2.   3.   2.   3.   3.   5.   2.   4.   3.   4.\n",
      "   1.   4.   5.   3.   5.   4.   4.   4.   3.   2.   3.   3.   5.   3.\n",
      "   4.   5.   2.   3.   2.   3.   4.   2.   4.   4.   2.   2.   3.  18.\n",
      " 176.  65.   0.   1.   0.   2.   1.   1.   0.]\n",
      "Y = 1.0\n",
      "\n",
      "X = [  5.   3.   4.   4.   2.   4.   3.   3.   4.   1.   3.   1.   2.   4.\n",
      "   4.   4.   2.   3.   4.   5.   2.   3.   2.   2.   2.   2.   3.   4.\n",
      "   4.   3.   4.   4.   4.   3.   3.   1.   3.   2.   2.   3.   2.   5.\n",
      "   3.   5.   2.   1.   1.   5.   3.   4.   4.   4.   3.   1.   4.   3.\n",
      "   1.   2.   3.   5.   4.   4.   2.   3.   2.   3.   3.   5.   1.   2.\n",
      "   5.   2.   3.   3.   5.   3.   3.   3.   5.   3.   4.   1.   3.   5.\n",
      "   1.   3.   3.   2.   1.   3.   5.   3.   3.   4.   2.   2.   3.   3.\n",
      "   4.   5.   3.   1.   4.   3.   3.   2.   3.   2.   3.   3.   4.   3.\n",
      "   3.   4.   3.   2.   3.   3.   3.   2.   3.   3.   5.   3.   4.   3.\n",
      "   3.   5.   4.   3.   2.   3.   4.   4.   1.   2.   3.   2.   3.  21.\n",
      " 164.  52.   1.   0.   0.   2.   1.   1.   0.]\n",
      "Y = -1.0\n",
      "\n"
     ]
    }
   ],
   "source": [
    "print (perceptron.predict(data.PerceptronSurveyData.Xde) == data.PerceptronSurveyData.Yde)\n",
    "print (\"\\ncorrect examples:\")\n",
    "print (\"X = {0}\".format(data.PerceptronSurveyData.Xde[3]))\n",
    "print (\"Y = {0}\\n\".format(data.PerceptronSurveyData.Yde[3]))\n",
    "print (\"X = {0}\".format(data.PerceptronSurveyData.Xde[4]))\n",
    "print (\"Y = {0}\\n\".format(data.PerceptronSurveyData.Yde[4]))\n",
    "print (\"X = {0}\".format(data.PerceptronSurveyData.Xde[19]))\n",
    "print (\"Y = {0}\\n\".format(data.PerceptronSurveyData.Yde[19]))\n",
    "print ()\n",
    "print (\"wrong examples:\")\n",
    "print (\"X = {0}\".format(data.PerceptronSurveyData.Xde[0]))\n",
    "print (\"Y = {0}\\n\".format(data.PerceptronSurveyData.Yde[0]))\n",
    "print (\"X = {0}\".format(data.PerceptronSurveyData.Xde[1]))\n",
    "print (\"Y = {0}\\n\".format(data.PerceptronSurveyData.Yde[1]))\n",
    "print (\"X = {0}\".format(data.PerceptronSurveyData.Xde[18]))\n",
    "print (\"Y = {0}\\n\".format(data.PerceptronSurveyData.Yde[18]))"
   ]
  },
  {
   "cell_type": "markdown",
   "metadata": {},
   "source": [
    "# Summary\n",
    "Since the task is to classify the binary data with features, decision tree, KNN, perceptron are all pretty simple and good at it. After trying all three models, I choose Perceptron model with max_iter = 15 as my final model to predict if a person empathy or not since it has the highest test prediction accuracy and has very stable performance.\n",
    "\n",
    "Tools used:\n",
    "Pandas library to read and process the data since it can read, extract, and modifying data the csv file convinently.\n",
    "sklearn library to get all sorts of popular classifiers to classify binary data.\n",
    "pylab to help draw the hyperparameter curve."
   ]
  }
 ],
 "metadata": {
  "kernelspec": {
   "display_name": "Python 3",
   "language": "python",
   "name": "python3"
  },
  "language_info": {
   "codemirror_mode": {
    "name": "ipython",
    "version": 3
   },
   "file_extension": ".py",
   "mimetype": "text/x-python",
   "name": "python",
   "nbconvert_exporter": "python",
   "pygments_lexer": "ipython3",
   "version": "3.6.5"
  }
 },
 "nbformat": 4,
 "nbformat_minor": 2
}
